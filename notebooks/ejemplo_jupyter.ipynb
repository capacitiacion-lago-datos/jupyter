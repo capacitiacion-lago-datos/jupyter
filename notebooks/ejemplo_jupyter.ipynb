{
 "cells": [
  {
   "cell_type": "code",
   "execution_count": null,
   "metadata": {},
   "outputs": [],
   "source": [
    "# Cargar paquetes\n",
    "import pandas as pd\n",
    "import numpy as np"
   ]
  },
  {
   "cell_type": "code",
   "execution_count": null,
   "metadata": {},
   "outputs": [],
   "source": [
    "# Columnas de juguete\n",
    "x = [i for i in range(10)]\n",
    "y = [i + 3 for i in range(10)]"
   ]
  },
  {
   "cell_type": "code",
   "execution_count": null,
   "metadata": {},
   "outputs": [],
   "source": [
    "# Escribir archivo con pandas\n",
    "df = pd.DataFrame({\"x\": x, \"y\": y})\n",
    "df.to_parquet(\"data/df_ejemplo.parquet\")"
   ]
  },
  {
   "cell_type": "code",
   "execution_count": null,
   "metadata": {},
   "outputs": [],
   "source": [
    "# Leer archivo parquet con pandas\n",
    "df = pd.read_parquet(\"data/df_ejemplo.parquet\")"
   ]
  }
 ],
 "metadata": {
  "language_info": {
   "name": "python"
  }
 },
 "nbformat": 4,
 "nbformat_minor": 2
}
